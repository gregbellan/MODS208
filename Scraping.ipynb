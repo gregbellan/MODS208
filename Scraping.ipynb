{
 "cells": [
  {
   "cell_type": "markdown",
   "id": "04fbba4d",
   "metadata": {},
   "source": [
    "# Libraries"
   ]
  },
  {
   "cell_type": "code",
   "execution_count": null,
   "id": "296971df",
   "metadata": {},
   "outputs": [],
   "source": [
    "import numpy as np\n",
    "import pandas as pd \n",
    "import requests\n",
    "from bs4 import BeautifulSoup\n",
    "import re"
   ]
  },
  {
   "cell_type": "code",
   "execution_count": null,
   "id": "8aa3bb9e",
   "metadata": {},
   "outputs": [],
   "source": [
    "patent_nb = pd.read_csv(\"./Data/patents_inproducts.csv\")\n",
    "list_patents = patent_nb.patent_number.values"
   ]
  },
  {
   "cell_type": "code",
   "execution_count": null,
   "id": "e1f5f72e",
   "metadata": {
    "scrolled": true
   },
   "outputs": [],
   "source": [
    "df = pd.DataFrame()\n",
    "for index,i in enumerate(list_patents):\n",
    "    # extract url of game page\n",
    "    token1 = \"https://api.patentsview.org/patents/query?q={%22patent_number%22:\"\n",
    "    token2 = \"}&f=[%22patent_number%22,%22patent_title%22,%22patent_date%22,%22patent_kind%22,%22patent_type%22]&s=[{%22patent_title%22:%22asc%22}]\"\n",
    "    url = token1 + str(i) + token2\n",
    "    r = requests.get(url)\n",
    "    if index%100==0:\n",
    "        print(index)\n",
    "    if r.status_code == 200:\n",
    "        html = r.text\n",
    "    else:\n",
    "        print(\"error : page not found\")\n",
    "\n",
    "    # initialize game line\n",
    "    patent = {\"patent_number\": i, \"patent_title\": None,\n",
    "            \"patent_date\": None, \"patent_kind\": None, \n",
    "            \"patent_type\": None}\n",
    "\n",
    "    # extract data from page\n",
    "    bs = BeautifulSoup(html, 'html.parser')\n",
    "    if bs.contents[0].find('total_patent_count\":0') <0:\n",
    "        Dict = ast.literal_eval(html)[\"patents\"][0]\n",
    "        patent[\"patent_title\"] = Dict[\"patent_title\"]\n",
    "        patent[\"patent_date\"]=Dict[\"patent_date\"]\n",
    "        patent[\"patent_kind\"]=Dict[\"patent_kind\"]\n",
    "        patent[\"patent_type\"]=Dict[\"patent_type\"]\n",
    "    #bs.find('patent_name', class_=\"details_block\").findAll('b')[0].next_sibling\n",
    "        df = df.append(patent, ignore_index=True)\n",
    "print(df)\n",
    "df.to_csv(index=False, header=True)"
   ]
  },
  {
   "cell_type": "code",
   "execution_count": null,
   "id": "da6bfdef",
   "metadata": {},
   "outputs": [],
   "source": []
  }
 ],
 "metadata": {
  "kernelspec": {
   "display_name": "Python 3",
   "language": "python",
   "name": "python3"
  },
  "language_info": {
   "codemirror_mode": {
    "name": "ipython",
    "version": 3
   },
   "file_extension": ".py",
   "mimetype": "text/x-python",
   "name": "python",
   "nbconvert_exporter": "python",
   "pygments_lexer": "ipython3",
   "version": "3.7.4"
  },
  "toc": {
   "base_numbering": 1,
   "nav_menu": {},
   "number_sections": true,
   "sideBar": true,
   "skip_h1_title": false,
   "title_cell": "Table of Contents",
   "title_sidebar": "Contents",
   "toc_cell": false,
   "toc_position": {},
   "toc_section_display": true,
   "toc_window_display": false
  },
  "varInspector": {
   "cols": {
    "lenName": 16,
    "lenType": 16,
    "lenVar": 40
   },
   "kernels_config": {
    "python": {
     "delete_cmd_postfix": "",
     "delete_cmd_prefix": "del ",
     "library": "var_list.py",
     "varRefreshCmd": "print(var_dic_list())"
    },
    "r": {
     "delete_cmd_postfix": ") ",
     "delete_cmd_prefix": "rm(",
     "library": "var_list.r",
     "varRefreshCmd": "cat(var_dic_list()) "
    }
   },
   "types_to_exclude": [
    "module",
    "function",
    "builtin_function_or_method",
    "instance",
    "_Feature"
   ],
   "window_display": false
  }
 },
 "nbformat": 4,
 "nbformat_minor": 5
}
