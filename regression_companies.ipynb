{
 "cells": [
  {
   "cell_type": "code",
   "execution_count": 19,
   "id": "61c1c3ab",
   "metadata": {},
   "outputs": [],
   "source": [
    "import numpy as np\n",
    "import pandas as pd\n",
    "import statsmodels.api as sm\n",
    "%config InlineBackend.figure_formats = ['retina']\n",
    "from statsmodels.stats.outliers_influence import variance_inflation_factor"
   ]
  },
  {
   "cell_type": "code",
   "execution_count": 2,
   "id": "2e8e301e",
   "metadata": {},
   "outputs": [],
   "source": [
    "info_patents = pd.read_pickle('../new_info_patents')\n",
    "info_companies = pd.read_csv('./Data/new_info_companies.csv')"
   ]
  },
  {
   "cell_type": "code",
   "execution_count": 4,
   "id": "9969bd71",
   "metadata": {},
   "outputs": [],
   "source": [
    "info_companies.drop(columns = [info_companies.columns.values[0]], inplace = True)"
   ]
  },
  {
   "cell_type": "code",
   "execution_count": 7,
   "id": "5f8cc134",
   "metadata": {},
   "outputs": [],
   "source": [
    "stat_columns = [\"assignee_id\", \"assignee_lastknown_country\", \"assignee_total_num_patents\", \"assignee_total_num_inventors\", \"proportion_marked_patents\", \"proportion_multi_ipc\", \"proportion_A_ipc\", \"proportion_B_ipc\", \"proportion_C_ipc\", \"proportion_D_ipc\", \"proportion_E_ipc\", \"proportion_F_ipc\", \"proportion_G_ipc\", \"proportion_H_ipc\"]\n",
    "interest_info_companies = info_companies[stat_columns]"
   ]
  },
  {
   "cell_type": "markdown",
   "id": "b33fae70",
   "metadata": {},
   "source": [
    "# OLS Regressions"
   ]
  },
  {
   "cell_type": "markdown",
   "id": "17c86126",
   "metadata": {},
   "source": [
    "### without entity fixed effects"
   ]
  },
  {
   "cell_type": "code",
   "execution_count": 17,
   "id": "d048a578",
   "metadata": {},
   "outputs": [
    {
     "name": "stdout",
     "output_type": "stream",
     "text": [
      "                                OLS Regression Results                               \n",
      "=====================================================================================\n",
      "Dep. Variable:     proportion_marked_patents   R-squared:                       0.110\n",
      "Model:                                   OLS   Adj. R-squared:                  0.104\n",
      "Method:                        Least Squares   F-statistic:                       nan\n",
      "Date:                       Mon, 31 May 2021   Prob (F-statistic):                nan\n",
      "Time:                               11:16:59   Log-Likelihood:                -14.383\n",
      "No. Observations:                       1695   AIC:                             50.77\n",
      "Df Residuals:                           1684   BIC:                             110.6\n",
      "Df Model:                                 10                                         \n",
      "Covariance Type:                         hc0                                         \n",
      "================================================================================================\n",
      "                                   coef    std err          z      P>|z|      [0.025      0.975]\n",
      "------------------------------------------------------------------------------------------------\n",
      "assignee_total_num_patents    9.615e-06   3.99e-06      2.408      0.016    1.79e-06    1.74e-05\n",
      "assignee_total_num_inventors  -3.01e-05    5.4e-06     -5.572      0.000   -4.07e-05   -1.95e-05\n",
      "proportion_multi_ipc            -0.0428      0.035     -1.232      0.218      -0.111       0.025\n",
      "proportion_A_ipc                 0.2518      0.014     17.941      0.000       0.224       0.279\n",
      "proportion_B_ipc                 0.3129      0.038      8.256      0.000       0.239       0.387\n",
      "proportion_C_ipc                 0.0267      0.034      0.793      0.428      -0.039       0.093\n",
      "proportion_D_ipc                -0.7258      0.233     -3.109      0.002      -1.183      -0.268\n",
      "proportion_E_ipc                 0.4189      0.074      5.670      0.000       0.274       0.564\n",
      "proportion_F_ipc                 0.2840      0.062      4.561      0.000       0.162       0.406\n",
      "proportion_G_ipc                 0.3734      0.024     15.401      0.000       0.326       0.421\n",
      "proportion_H_ipc                 0.1569      0.031      5.055      0.000       0.096       0.218\n",
      "==============================================================================\n",
      "Omnibus:                      315.296   Durbin-Watson:                   2.004\n",
      "Prob(Omnibus):                  0.000   Jarque-Bera (JB):              514.127\n",
      "Skew:                           1.250   Prob(JB):                    2.28e-112\n",
      "Kurtosis:                       4.013   Cond. No.                     3.19e+05\n",
      "==============================================================================\n",
      "\n",
      "Notes:\n",
      "[1] Standard Errors are heteroscedasticity robust (HC0)\n",
      "[2] The condition number is large, 3.19e+05. This might indicate that there are\n",
      "strong multicollinearity or other numerical problems.\n"
     ]
    }
   ],
   "source": [
    "reg_companies = interest_info_companies[[\"assignee_total_num_patents\", \"assignee_total_num_inventors\", \"proportion_marked_patents\", \"proportion_multi_ipc\", \"proportion_A_ipc\", \"proportion_B_ipc\", \"proportion_C_ipc\", \"proportion_D_ipc\", \"proportion_E_ipc\", \"proportion_F_ipc\", \"proportion_G_ipc\", \"proportion_H_ipc\"]]\n",
    "model = sm.OLS(reg_companies.proportion_marked_patents, reg_companies.drop('proportion_marked_patents', axis = 1))\n",
    "result = model.fit(cov_type = 'hc0')\n",
    "print(result.summary())"
   ]
  },
  {
   "cell_type": "code",
   "execution_count": 20,
   "id": "2e5ad8f2",
   "metadata": {},
   "outputs": [
    {
     "data": {
      "text/html": [
       "<div>\n",
       "<style scoped>\n",
       "    .dataframe tbody tr th:only-of-type {\n",
       "        vertical-align: middle;\n",
       "    }\n",
       "\n",
       "    .dataframe tbody tr th {\n",
       "        vertical-align: top;\n",
       "    }\n",
       "\n",
       "    .dataframe thead th {\n",
       "        text-align: right;\n",
       "    }\n",
       "</style>\n",
       "<table border=\"1\" class=\"dataframe\">\n",
       "  <thead>\n",
       "    <tr style=\"text-align: right;\">\n",
       "      <th></th>\n",
       "      <th>variables</th>\n",
       "      <th>VIF</th>\n",
       "    </tr>\n",
       "  </thead>\n",
       "  <tbody>\n",
       "    <tr>\n",
       "      <th>0</th>\n",
       "      <td>assignee_total_num_patents</td>\n",
       "      <td>8.318907</td>\n",
       "    </tr>\n",
       "    <tr>\n",
       "      <th>1</th>\n",
       "      <td>assignee_total_num_inventors</td>\n",
       "      <td>8.425058</td>\n",
       "    </tr>\n",
       "    <tr>\n",
       "      <th>2</th>\n",
       "      <td>proportion_marked_patents</td>\n",
       "      <td>1.123104</td>\n",
       "    </tr>\n",
       "    <tr>\n",
       "      <th>3</th>\n",
       "      <td>proportion_multi_ipc</td>\n",
       "      <td>1.126157</td>\n",
       "    </tr>\n",
       "    <tr>\n",
       "      <th>4</th>\n",
       "      <td>proportion_A_ipc</td>\n",
       "      <td>1.461959</td>\n",
       "    </tr>\n",
       "    <tr>\n",
       "      <th>5</th>\n",
       "      <td>proportion_B_ipc</td>\n",
       "      <td>1.381038</td>\n",
       "    </tr>\n",
       "    <tr>\n",
       "      <th>6</th>\n",
       "      <td>proportion_C_ipc</td>\n",
       "      <td>1.500389</td>\n",
       "    </tr>\n",
       "    <tr>\n",
       "      <th>7</th>\n",
       "      <td>proportion_D_ipc</td>\n",
       "      <td>1.075185</td>\n",
       "    </tr>\n",
       "    <tr>\n",
       "      <th>8</th>\n",
       "      <td>proportion_E_ipc</td>\n",
       "      <td>1.077322</td>\n",
       "    </tr>\n",
       "    <tr>\n",
       "      <th>9</th>\n",
       "      <td>proportion_F_ipc</td>\n",
       "      <td>1.192314</td>\n",
       "    </tr>\n",
       "    <tr>\n",
       "      <th>10</th>\n",
       "      <td>proportion_G_ipc</td>\n",
       "      <td>1.778801</td>\n",
       "    </tr>\n",
       "    <tr>\n",
       "      <th>11</th>\n",
       "      <td>proportion_H_ipc</td>\n",
       "      <td>1.432628</td>\n",
       "    </tr>\n",
       "  </tbody>\n",
       "</table>\n",
       "</div>"
      ],
      "text/plain": [
       "                       variables       VIF\n",
       "0     assignee_total_num_patents  8.318907\n",
       "1   assignee_total_num_inventors  8.425058\n",
       "2      proportion_marked_patents  1.123104\n",
       "3           proportion_multi_ipc  1.126157\n",
       "4               proportion_A_ipc  1.461959\n",
       "5               proportion_B_ipc  1.381038\n",
       "6               proportion_C_ipc  1.500389\n",
       "7               proportion_D_ipc  1.075185\n",
       "8               proportion_E_ipc  1.077322\n",
       "9               proportion_F_ipc  1.192314\n",
       "10              proportion_G_ipc  1.778801\n",
       "11              proportion_H_ipc  1.432628"
      ]
     },
     "execution_count": 20,
     "metadata": {},
     "output_type": "execute_result"
    }
   ],
   "source": [
    "vif = pd.DataFrame()\n",
    "vif[\"variables\"] = reg_companies.columns\n",
    "vif[\"VIF\"] = [variance_inflation_factor(reg_companies.values, i) for i in range(reg_companies.shape[1])]\n",
    "vif"
   ]
  },
  {
   "cell_type": "code",
   "execution_count": 25,
   "id": "b128796a",
   "metadata": {},
   "outputs": [
    {
     "data": {
      "text/plain": [
       "count      1695.000000\n",
       "mean        849.617109\n",
       "std        4732.999739\n",
       "min           4.000000\n",
       "25%          12.000000\n",
       "50%          39.000000\n",
       "75%         160.000000\n",
       "max      118728.000000\n",
       "Name: assignee_total_num_patents, dtype: float64"
      ]
     },
     "execution_count": 25,
     "metadata": {},
     "output_type": "execute_result"
    }
   ],
   "source": []
  },
  {
   "cell_type": "code",
   "execution_count": null,
   "id": "603dd3fc",
   "metadata": {},
   "outputs": [],
   "source": []
  },
  {
   "cell_type": "code",
   "execution_count": null,
   "id": "98dbd81b",
   "metadata": {},
   "outputs": [],
   "source": []
  }
 ],
 "metadata": {
  "kernelspec": {
   "display_name": "Python 3",
   "language": "python",
   "name": "python3"
  },
  "language_info": {
   "codemirror_mode": {
    "name": "ipython",
    "version": 3
   },
   "file_extension": ".py",
   "mimetype": "text/x-python",
   "name": "python",
   "nbconvert_exporter": "python",
   "pygments_lexer": "ipython3",
   "version": "3.8.8"
  }
 },
 "nbformat": 4,
 "nbformat_minor": 5
}
