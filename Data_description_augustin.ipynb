{
 "cells": [
  {
   "cell_type": "code",
   "execution_count": 1,
   "metadata": {},
   "outputs": [],
   "source": [
    "import pandas as pd\n",
    "import numpy as np\n",
    "import matplotlib.pyplot as plt\n",
    "from scipy import stats\n",
    "import seaborn as sn\n",
    "from sklearn.preprocessing import MultiLabelBinarizer"
   ]
  },
  {
   "cell_type": "code",
   "execution_count": null,
   "metadata": {},
   "outputs": [],
   "source": []
  },
  {
   "cell_type": "code",
   "execution_count": 148,
   "metadata": {},
   "outputs": [
    {
     "name": "stderr",
     "output_type": "stream",
     "text": [
      "<ipython-input-148-f28101954b84>:11: SettingWithCopyWarning: \n",
      "A value is trying to be set on a copy of a slice from a DataFrame.\n",
      "Try using .loc[row_indexer,col_indexer] = value instead\n",
      "\n",
      "See the caveats in the documentation: https://pandas.pydata.org/pandas-docs/stable/user_guide/indexing.html#returning-a-view-versus-a-copy\n",
      "  data_patents_process['patent_processing_time'] = data_patents_process['patent_processing_time'].astype(int)\n"
     ]
    }
   ],
   "source": [
    "data_assignment = pd.read_csv(\"data/assignment_red.csv\")\n",
    "data_assignor = pd.read_csv(\"data/assignor_red.csv\")\n",
    "data_assignee = pd.read_csv(\"data/assignee_red.csv\")\n",
    "data_documentid = pd.read_csv(\"data/documentid_red.csv\")\n",
    "\n",
    "data_patents = pd.read_pickle('../info_patents')\n",
    "\n",
    "#same dataframe with good Processing time values \n",
    "#some process_time_value where dates instead of int\n",
    "data_patents_process = data_patents[data_patents['patent_processing_time'].apply(lambda x: str(x).isdigit())]\n",
    "data_patents_process['patent_processing_time'] = data_patents_process['patent_processing_time'].astype(int)\n",
    "#data_patents_process = data_patents_process[data_patents_process['patent_processing_time'].apply(lambda x: x<20000)]"
   ]
  },
  {
   "cell_type": "code",
   "execution_count": 149,
   "metadata": {},
   "outputs": [],
   "source": [
    "data_patents = data_patents.dropna()\n",
    "s = data_patents['ipc_section']\n",
    "mlb = MultiLabelBinarizer()\n",
    "test = pd.DataFrame(mlb.fit_transform(s),columns=mlb.classes_, index=data_patents.index)\n",
    "\n",
    "test = test[['A','B','C','D','E','F','G','H']]\n",
    "for i in list(test.columns) :\n",
    "    data_patents[i] = test[i]"
   ]
  },
  {
   "cell_type": "code",
   "execution_count": 150,
   "metadata": {},
   "outputs": [],
   "source": [
    "rf_id = data_assignment['rf_id']\n",
    "data = data_assignment.copy()\n",
    "data = data.join(data_assignee.set_index('rf_id'), on='rf_id')\n",
    "data = data.join(data_assignor.set_index('rf_id'), on='rf_id')\n",
    "data = data.join(data_documentid.set_index('rf_id'), on='rf_id')"
   ]
  },
  {
   "cell_type": "code",
   "execution_count": 151,
   "metadata": {},
   "outputs": [
    {
     "name": "stdout",
     "output_type": "stream",
     "text": [
      "<class 'pandas.core.frame.DataFrame'>\n",
      "Int64Index: 20795 entries, 0 to 5834\n",
      "Data columns (total 35 columns):\n",
      " #   Column          Non-Null Count  Dtype  \n",
      "---  ------          --------------  -----  \n",
      " 0   rf_id           20795 non-null  int64  \n",
      " 1   file_id         20795 non-null  int64  \n",
      " 2   cname           20795 non-null  object \n",
      " 3   caddress_1      20795 non-null  object \n",
      " 4   caddress_2      20795 non-null  object \n",
      " 5   caddress_3      12649 non-null  object \n",
      " 6   caddress_4      1335 non-null   object \n",
      " 7   reel_no         20795 non-null  int64  \n",
      " 8   frame_no        20795 non-null  int64  \n",
      " 9   convey_text     20795 non-null  object \n",
      " 10  record_dt       20795 non-null  object \n",
      " 11  last_update_dt  20795 non-null  object \n",
      " 12  page_count      20795 non-null  int64  \n",
      " 13  purge_in        20795 non-null  object \n",
      " 14  ee_name         20795 non-null  object \n",
      " 15  ee_address_1    19669 non-null  object \n",
      " 16  ee_address_2    5307 non-null   object \n",
      " 17  ee_city         20784 non-null  object \n",
      " 18  ee_state        15611 non-null  object \n",
      " 19  ee_postcode     19827 non-null  object \n",
      " 20  ee_country      5182 non-null   object \n",
      " 21  or_name         20795 non-null  object \n",
      " 22  exec_dt         20795 non-null  object \n",
      " 23  ack_dt          0 non-null      float64\n",
      " 24  title           20790 non-null  object \n",
      " 25  lang            20790 non-null  object \n",
      " 26  appno_doc_num   20790 non-null  float64\n",
      " 27  appno_date      20790 non-null  object \n",
      " 28  appno_country   20790 non-null  object \n",
      " 29  pgpub_doc_num   16466 non-null  float64\n",
      " 30  pgpub_date      16466 non-null  object \n",
      " 31  pgpub_country   16466 non-null  object \n",
      " 32  grant_doc_num   20795 non-null  int64  \n",
      " 33  grant_date      20795 non-null  object \n",
      " 34  grant_country   20795 non-null  object \n",
      "dtypes: float64(3), int64(6), object(26)\n",
      "memory usage: 5.7+ MB\n"
     ]
    }
   ],
   "source": [
    "data.info()"
   ]
  },
  {
   "cell_type": "markdown",
   "metadata": {},
   "source": [
    "## Number of patents sold per assignor"
   ]
  },
  {
   "cell_type": "code",
   "execution_count": 152,
   "metadata": {},
   "outputs": [
    {
     "data": {
      "image/png": "[encoded data removed]",
      "text/plain": [
       "<Figure size 432x288 with 1 Axes>"
      ]
     },
     "metadata": {
      "needs_background": "light"
     },
     "output_type": "display_data"
    },
    {
     "data": {
      "text/plain": [
       "DescribeResult(nobs=6046, minmax=(1, 390), mean=3.4394641085014888, variance=86.03198409656105, skewness=18.25618805094915, kurtosis=586.130681602731)"
      ]
     },
     "execution_count": 152,
     "metadata": {},
     "output_type": "execute_result"
    }
   ],
   "source": [
    "plt.hist(data['or_name'].value_counts(), range = (1,50), bins = 50, color = 'green',\n",
    "            edgecolor = 'black')\n",
    "plt.xlabel('valeurs')\n",
    "plt.ylabel('nombres')\n",
    "plt.title('number of patents sold per assignor')\n",
    "plt.show()\n",
    "\n",
    "stats.describe(data['or_name'].value_counts().to_numpy())"
   ]
  },
  {
   "cell_type": "markdown",
   "metadata": {},
   "source": [
    "## Number of patents sold per assignee"
   ]
  },
  {
   "cell_type": "code",
   "execution_count": 153,
   "metadata": {},
   "outputs": [
    {
     "data": {
      "image/png": "[encoded data removed]",
      "text/plain": [
       "<Figure size 432x288 with 1 Axes>"
      ]
     },
     "metadata": {
      "needs_background": "light"
     },
     "output_type": "display_data"
    },
    {
     "data": {
      "text/plain": [
       "DescribeResult(nobs=2142, minmax=(1, 696), mean=9.708216619981325, variance=1010.9381762669258, skewness=12.140803748066828, kurtosis=198.37016358703715)"
      ]
     },
     "execution_count": 153,
     "metadata": {},
     "output_type": "execute_result"
    }
   ],
   "source": [
    "plt.hist(data['ee_name'].value_counts(), range = (1,50), bins = 50, color = 'blue',\n",
    "            edgecolor = 'black')\n",
    "plt.xlabel('valeurs')\n",
    "plt.ylabel('nombres')\n",
    "plt.title('number of patents bought per assignee')\n",
    "plt.show()\n",
    "\n",
    "stats.describe(data['ee_name'].value_counts().to_numpy())"
   ]
  },
  {
   "cell_type": "markdown",
   "metadata": {},
   "source": [
    "## Number of transactions with the same assignor/assignee"
   ]
  },
  {
   "cell_type": "code",
   "execution_count": 154,
   "metadata": {},
   "outputs": [],
   "source": [
    "data['or_ee'] = data['or_name'] + data['ee_name']"
   ]
  },
  {
   "cell_type": "code",
   "execution_count": 155,
   "metadata": {},
   "outputs": [
    {
     "data": {
      "image/png": "[encoded data removed]",
      "text/plain": [
       "<Figure size 432x288 with 1 Axes>"
      ]
     },
     "metadata": {
      "needs_background": "light"
     },
     "output_type": "display_data"
    },
    {
     "data": {
      "text/plain": [
       "DescribeResult(nobs=6746, minmax=(1, 316), mean=3.082567447376223, variance=59.516235720060976, skewness=15.787077627428788, kurtosis=464.8336921322916)"
      ]
     },
     "execution_count": 155,
     "metadata": {},
     "output_type": "execute_result"
    }
   ],
   "source": [
    "plt.hist(data['or_ee'].value_counts(), range = (1,50), bins = 50, color = 'red',\n",
    "            edgecolor = 'black')\n",
    "plt.xlabel('valeurs')\n",
    "plt.ylabel('nombres')\n",
    "plt.title('Number of tansactions with the same assignor/assignee')\n",
    "plt.show()\n",
    "\n",
    "stats.describe(data['or_ee'].value_counts().to_numpy())"
   ]
  },
  {
   "cell_type": "code",
   "execution_count": 156,
   "metadata": {},
   "outputs": [
    {
     "data": {
      "image/png": "[encoded data removed]",
      "text/plain": [
       "<Figure size 432x288 with 1 Axes>"
      ]
     },
     "metadata": {
      "needs_background": "light"
     },
     "output_type": "display_data"
    }
   ],
   "source": [
    "value_count = data['or_ee'].value_counts()\n",
    "res = []\n",
    "for i in range (len(value_count)):\n",
    "    if value_count[i]>3 : \n",
    "        res.append(value_count[i])\n",
    "\n",
    "plt.hist(res, range = (1,168), bins = 50, color = 'red',edgecolor = 'black')\n",
    "plt.xlabel('valeurs')\n",
    "plt.ylabel('nombres')\n",
    "plt.title('Number of tansactions with the same assignor/assignee')\n",
    "plt.show()"
   ]
  },
  {
   "cell_type": "code",
   "execution_count": null,
   "metadata": {},
   "outputs": [],
   "source": []
  },
  {
   "cell_type": "markdown",
   "metadata": {},
   "source": [
    "## Number of transactions with the same patent"
   ]
  },
  {
   "cell_type": "code",
   "execution_count": 157,
   "metadata": {},
   "outputs": [
    {
     "data": {
      "image/png": "[encoded data removed]",
      "text/plain": [
       "<Figure size 432x288 with 1 Axes>"
      ]
     },
     "metadata": {
      "needs_background": "light"
     },
     "output_type": "display_data"
    },
    {
     "data": {
      "text/plain": [
       "DescribeResult(nobs=8113, minmax=(1, 60), mean=2.563170220633551, variance=8.718426437614065, skewness=6.176965828374427, kurtosis=74.00897278937026)"
      ]
     },
     "execution_count": 157,
     "metadata": {},
     "output_type": "execute_result"
    }
   ],
   "source": [
    "plt.hist(data['grant_doc_num'].value_counts(), range = (1,100), bins = 50, color = 'red',\n",
    "            edgecolor = 'black')\n",
    "plt.xlabel('valeurs')\n",
    "plt.ylabel('nombres')\n",
    "plt.title('Number of tansactions with the same patent')\n",
    "plt.show()\n",
    "\n",
    "stats.describe(data['grant_doc_num'].value_counts().to_numpy())"
   ]
  },
  {
   "cell_type": "markdown",
   "metadata": {},
   "source": [
    "We can see here that a patent that is traded is in average traded 6 times. "
   ]
  },
  {
   "cell_type": "markdown",
   "metadata": {},
   "source": [
    "============================================================================================\n",
    "\n",
    "# All patents"
   ]
  },
  {
   "cell_type": "code",
   "execution_count": null,
   "metadata": {},
   "outputs": [],
   "source": []
  },
  {
   "cell_type": "code",
   "execution_count": 158,
   "metadata": {},
   "outputs": [
    {
     "data": {
      "text/plain": [
       "0.0    1800785\n",
       "1.0      23266\n",
       "Name: marked, dtype: int64"
      ]
     },
     "execution_count": 158,
     "metadata": {},
     "output_type": "execute_result"
    }
   ],
   "source": [
    "data_patents['marked'].value_counts()"
   ]
  },
  {
   "cell_type": "markdown",
   "metadata": {},
   "source": [
    "## Proportion of marked patents"
   ]
  },
  {
   "cell_type": "code",
   "execution_count": 159,
   "metadata": {},
   "outputs": [
    {
     "data": {
      "image/png": "[encoded data removed]",
      "text/plain": [
       "<Figure size 360x360 with 1 Axes>"
      ]
     },
     "metadata": {},
     "output_type": "display_data"
    }
   ],
   "source": [
    "plt.figure(figsize=(5,5))\n",
    "plt.pie(x = data_patents['marked'].value_counts(), labels = ['not marked','marked'], autopct='%1.2f%%')\n",
    "plt.title('Propotion of marked patents')\n",
    "plt.show()"
   ]
  },
  {
   "cell_type": "markdown",
   "metadata": {},
   "source": [
    "## Processing Time for patents "
   ]
  },
  {
   "cell_type": "code",
   "execution_count": 160,
   "metadata": {},
   "outputs": [
    {
     "data": {
      "image/png": "[encoded data removed]",
      "text/plain": [
       "<Figure size 432x288 with 1 Axes>"
      ]
     },
     "metadata": {
      "needs_background": "light"
     },
     "output_type": "display_data"
    }
   ],
   "source": [
    "plt.hist(data_patents_process['patent_processing_time'].value_counts(), range = (1,2018), bins = 50, color = 'red',\n",
    "            edgecolor = 'black')\n",
    "\n",
    "plt.xlabel('valeurs')\n",
    "plt.ylabel('nombres')\n",
    "plt.title('Processing time for patents')\n",
    "plt.show()"
   ]
  },
  {
   "cell_type": "code",
   "execution_count": 161,
   "metadata": {},
   "outputs": [
    {
     "data": {
      "text/plain": [
       "count    1.396111e+06\n",
       "mean     1.046556e+03\n",
       "std      6.163182e+02\n",
       "min      0.000000e+00\n",
       "25%      6.200000e+02\n",
       "50%      9.070000e+02\n",
       "75%      1.328000e+03\n",
       "max      3.381700e+04\n",
       "Name: patent_processing_time, dtype: float64"
      ]
     },
     "execution_count": 161,
     "metadata": {},
     "output_type": "execute_result"
    }
   ],
   "source": [
    "data_patents_process['patent_processing_time'].describe()"
   ]
  },
  {
   "cell_type": "code",
   "execution_count": null,
   "metadata": {},
   "outputs": [],
   "source": []
  },
  {
   "cell_type": "code",
   "execution_count": 162,
   "metadata": {},
   "outputs": [
    {
     "data": {
      "image/png": "[encoded data removed]",
      "text/plain": [
       "<Figure size 432x288 with 1 Axes>"
      ]
     },
     "metadata": {
      "needs_background": "light"
     },
     "output_type": "display_data"
    }
   ],
   "source": [
    "ax = sn.boxplot(x=\"marked\", y=\"patent_processing_time\", palette=\"Blues\", data=data_patents_process).set_title(\"1\")\n",
    "                                                                                                                                                                                    "
   ]
  },
  {
   "cell_type": "markdown",
   "metadata": {},
   "source": [
    "Here we see that the max is higher when the patent is not marked "
   ]
  },
  {
   "cell_type": "code",
   "execution_count": 163,
   "metadata": {},
   "outputs": [
    {
     "data": {
      "text/plain": [
       "count    1.396111e+06\n",
       "mean     1.046556e+03\n",
       "std      6.163182e+02\n",
       "min      0.000000e+00\n",
       "25%      6.200000e+02\n",
       "50%      9.070000e+02\n",
       "75%      1.328000e+03\n",
       "max      3.381700e+04\n",
       "Name: patent_processing_time, dtype: float64"
      ]
     },
     "execution_count": 163,
     "metadata": {},
     "output_type": "execute_result"
    }
   ],
   "source": [
    "data_patents_process['patent_processing_time'].describe()"
   ]
  },
  {
   "cell_type": "markdown",
   "metadata": {},
   "source": [
    "the processing time is in more than 50% of the time between 600 and 1400 days (the average being 1046 days) "
   ]
  },
  {
   "cell_type": "code",
   "execution_count": null,
   "metadata": {},
   "outputs": [],
   "source": []
  },
  {
   "cell_type": "code",
   "execution_count": null,
   "metadata": {},
   "outputs": [],
   "source": []
  },
  {
   "cell_type": "code",
   "execution_count": 164,
   "metadata": {},
   "outputs": [
    {
     "name": "stderr",
     "output_type": "stream",
     "text": [
      "<ipython-input-164-7a712afcf706>:2: SettingWithCopyWarning: \n",
      "A value is trying to be set on a copy of a slice from a DataFrame.\n",
      "Try using .loc[row_indexer,col_indexer] = value instead\n",
      "\n",
      "See the caveats in the documentation: https://pandas.pydata.org/pandas-docs/stable/user_guide/indexing.html#returning-a-view-versus-a-copy\n",
      "  data_patents_process['patent_processing_time'] = data_patents_process['patent_processing_time'].astype(int)\n"
     ]
    }
   ],
   "source": [
    "data_patents_process = data_patents[data_patents['patent_processing_time'].apply(lambda x: str(x).isdigit())]\n",
    "data_patents_process['patent_processing_time'] = data_patents_process['patent_processing_time'].astype(int)"
   ]
  },
  {
   "cell_type": "code",
   "execution_count": 165,
   "metadata": {},
   "outputs": [
    {
     "name": "stderr",
     "output_type": "stream",
     "text": [
      "<ipython-input-165-2d7efb1914e0>:1: SettingWithCopyWarning: \n",
      "A value is trying to be set on a copy of a slice from a DataFrame.\n",
      "Try using .loc[row_indexer,col_indexer] = value instead\n",
      "\n",
      "See the caveats in the documentation: https://pandas.pydata.org/pandas-docs/stable/user_guide/indexing.html#returning-a-view-versus-a-copy\n",
      "  data_patents_process['patent_date'] = pd.to_datetime(data_patents_process['patent_date'], format='%Y-%m-%d', errors='coerce')\n"
     ]
    },
    {
     "data": {
      "text/html": [
       "<div>\n",
       "<style scoped>\n",
       "    .dataframe tbody tr th:only-of-type {\n",
       "        vertical-align: middle;\n",
       "    }\n",
       "\n",
       "    .dataframe tbody tr th {\n",
       "        vertical-align: top;\n",
       "    }\n",
       "\n",
       "    .dataframe thead th {\n",
       "        text-align: right;\n",
       "    }\n",
       "</style>\n",
       "<table border=\"1\" class=\"dataframe\">\n",
       "  <thead>\n",
       "    <tr style=\"text-align: right;\">\n",
       "      <th></th>\n",
       "      <th>patent_number</th>\n",
       "      <th>patent_date</th>\n",
       "      <th>patent_processing_time</th>\n",
       "      <th>ipc_section</th>\n",
       "      <th>assignee_id</th>\n",
       "      <th>wipos</th>\n",
       "      <th>marked</th>\n",
       "      <th>A</th>\n",
       "      <th>B</th>\n",
       "      <th>C</th>\n",
       "      <th>D</th>\n",
       "      <th>E</th>\n",
       "      <th>F</th>\n",
       "      <th>G</th>\n",
       "      <th>H</th>\n",
       "    </tr>\n",
       "  </thead>\n",
       "  <tbody>\n",
       "    <tr>\n",
       "      <th>0</th>\n",
       "      <td>5387603</td>\n",
       "      <td>1995-02-07</td>\n",
       "      <td>433</td>\n",
       "      <td>[A, C]</td>\n",
       "      <td>[5330279e-a21e-438c-80d1-7e6ae793c092]</td>\n",
       "      <td>[16, 14]</td>\n",
       "      <td>1.0</td>\n",
       "      <td>1</td>\n",
       "      <td>0</td>\n",
       "      <td>1</td>\n",
       "      <td>0</td>\n",
       "      <td>0</td>\n",
       "      <td>0</td>\n",
       "      <td>0</td>\n",
       "      <td>0</td>\n",
       "    </tr>\n",
       "    <tr>\n",
       "      <th>1</th>\n",
       "      <td>5771295</td>\n",
       "      <td>1998-06-23</td>\n",
       "      <td>552</td>\n",
       "      <td>[H]</td>\n",
       "      <td>[2986e46e-7937-477f-9bc5-1f5eec05183f]</td>\n",
       "      <td>[2]</td>\n",
       "      <td>1.0</td>\n",
       "      <td>0</td>\n",
       "      <td>0</td>\n",
       "      <td>0</td>\n",
       "      <td>0</td>\n",
       "      <td>0</td>\n",
       "      <td>0</td>\n",
       "      <td>0</td>\n",
       "      <td>1</td>\n",
       "    </tr>\n",
       "    <tr>\n",
       "      <th>2</th>\n",
       "      <td>5585587</td>\n",
       "      <td>1996-12-17</td>\n",
       "      <td>832</td>\n",
       "      <td>[G]</td>\n",
       "      <td>[f7152515-d420-42d9-a7b6-3a2796bc5d10]</td>\n",
       "      <td>[34, 2, 10]</td>\n",
       "      <td>1.0</td>\n",
       "      <td>0</td>\n",
       "      <td>0</td>\n",
       "      <td>0</td>\n",
       "      <td>0</td>\n",
       "      <td>0</td>\n",
       "      <td>0</td>\n",
       "      <td>1</td>\n",
       "      <td>0</td>\n",
       "    </tr>\n",
       "    <tr>\n",
       "      <th>3</th>\n",
       "      <td>5321490</td>\n",
       "      <td>1994-06-14</td>\n",
       "      <td>568</td>\n",
       "      <td>[G]</td>\n",
       "      <td>[ec72750e-f789-4749-91f7-6292f7c6fda7]</td>\n",
       "      <td>[10, 12, 29]</td>\n",
       "      <td>1.0</td>\n",
       "      <td>0</td>\n",
       "      <td>0</td>\n",
       "      <td>0</td>\n",
       "      <td>0</td>\n",
       "      <td>0</td>\n",
       "      <td>0</td>\n",
       "      <td>1</td>\n",
       "      <td>0</td>\n",
       "    </tr>\n",
       "    <tr>\n",
       "      <th>4</th>\n",
       "      <td>5750497</td>\n",
       "      <td>1998-05-12</td>\n",
       "      <td>1161</td>\n",
       "      <td>[A, C]</td>\n",
       "      <td>[9a3afa40-66e5-4921-b831-64287f2052e0]</td>\n",
       "      <td>[16, 15]</td>\n",
       "      <td>1.0</td>\n",
       "      <td>1</td>\n",
       "      <td>0</td>\n",
       "      <td>1</td>\n",
       "      <td>0</td>\n",
       "      <td>0</td>\n",
       "      <td>0</td>\n",
       "      <td>0</td>\n",
       "      <td>0</td>\n",
       "    </tr>\n",
       "    <tr>\n",
       "      <th>...</th>\n",
       "      <td>...</td>\n",
       "      <td>...</td>\n",
       "      <td>...</td>\n",
       "      <td>...</td>\n",
       "      <td>...</td>\n",
       "      <td>...</td>\n",
       "      <td>...</td>\n",
       "      <td>...</td>\n",
       "      <td>...</td>\n",
       "      <td>...</td>\n",
       "      <td>...</td>\n",
       "      <td>...</td>\n",
       "      <td>...</td>\n",
       "      <td>...</td>\n",
       "      <td>...</td>\n",
       "    </tr>\n",
       "    <tr>\n",
       "      <th>1915705</th>\n",
       "      <td>8386822</td>\n",
       "      <td>2013-02-26</td>\n",
       "      <td>1852</td>\n",
       "      <td>[G]</td>\n",
       "      <td>[ee0168d9-bf74-4513-bfbf-e73c933f90e7]</td>\n",
       "      <td>[6]</td>\n",
       "      <td>0.0</td>\n",
       "      <td>0</td>\n",
       "      <td>0</td>\n",
       "      <td>0</td>\n",
       "      <td>0</td>\n",
       "      <td>0</td>\n",
       "      <td>0</td>\n",
       "      <td>1</td>\n",
       "      <td>0</td>\n",
       "    </tr>\n",
       "    <tr>\n",
       "      <th>1915707</th>\n",
       "      <td>4192319</td>\n",
       "      <td>1980-03-11</td>\n",
       "      <td>893</td>\n",
       "      <td>[A]</td>\n",
       "      <td>[fa543ac8-5ee8-4999-b949-6c8a3dbae65d]</td>\n",
       "      <td>[13]</td>\n",
       "      <td>0.0</td>\n",
       "      <td>1</td>\n",
       "      <td>0</td>\n",
       "      <td>0</td>\n",
       "      <td>0</td>\n",
       "      <td>0</td>\n",
       "      <td>0</td>\n",
       "      <td>0</td>\n",
       "      <td>0</td>\n",
       "    </tr>\n",
       "    <tr>\n",
       "      <th>1915708</th>\n",
       "      <td>8386739</td>\n",
       "      <td>2013-02-26</td>\n",
       "      <td>1247</td>\n",
       "      <td>[G]</td>\n",
       "      <td>[ee0168d9-bf74-4513-bfbf-e73c933f90e7]</td>\n",
       "      <td>[6]</td>\n",
       "      <td>0.0</td>\n",
       "      <td>0</td>\n",
       "      <td>0</td>\n",
       "      <td>0</td>\n",
       "      <td>0</td>\n",
       "      <td>0</td>\n",
       "      <td>0</td>\n",
       "      <td>1</td>\n",
       "      <td>0</td>\n",
       "    </tr>\n",
       "    <tr>\n",
       "      <th>1915709</th>\n",
       "      <td>4191891</td>\n",
       "      <td>1980-03-04</td>\n",
       "      <td>481</td>\n",
       "      <td>[H]</td>\n",
       "      <td>[f2d3dc32-b29c-4c55-ab6d-736b4ee8b96b]</td>\n",
       "      <td>[13]</td>\n",
       "      <td>0.0</td>\n",
       "      <td>0</td>\n",
       "      <td>0</td>\n",
       "      <td>0</td>\n",
       "      <td>0</td>\n",
       "      <td>0</td>\n",
       "      <td>0</td>\n",
       "      <td>0</td>\n",
       "      <td>1</td>\n",
       "    </tr>\n",
       "    <tr>\n",
       "      <th>1915710</th>\n",
       "      <td>8386563</td>\n",
       "      <td>2013-02-26</td>\n",
       "      <td>228</td>\n",
       "      <td>[G]</td>\n",
       "      <td>[142a7fc2-350c-4e29-bbd4-c9ede9a64859]</td>\n",
       "      <td>[4, 6]</td>\n",
       "      <td>0.0</td>\n",
       "      <td>0</td>\n",
       "      <td>0</td>\n",
       "      <td>0</td>\n",
       "      <td>0</td>\n",
       "      <td>0</td>\n",
       "      <td>0</td>\n",
       "      <td>1</td>\n",
       "      <td>0</td>\n",
       "    </tr>\n",
       "  </tbody>\n",
       "</table>\n",
       "<p>1331659 rows × 15 columns</p>\n",
       "</div>"
      ],
      "text/plain": [
       "        patent_number patent_date  patent_processing_time ipc_section  \\\n",
       "0             5387603  1995-02-07                     433      [A, C]   \n",
       "1             5771295  1998-06-23                     552         [H]   \n",
       "2             5585587  1996-12-17                     832         [G]   \n",
       "3             5321490  1994-06-14                     568         [G]   \n",
       "4             5750497  1998-05-12                    1161      [A, C]   \n",
       "...               ...         ...                     ...         ...   \n",
       "1915705       8386822  2013-02-26                    1852         [G]   \n",
       "1915707       4192319  1980-03-11                     893         [A]   \n",
       "1915708       8386739  2013-02-26                    1247         [G]   \n",
       "1915709       4191891  1980-03-04                     481         [H]   \n",
       "1915710       8386563  2013-02-26                     228         [G]   \n",
       "\n",
       "                                    assignee_id         wipos  marked  A  B  \\\n",
       "0        [5330279e-a21e-438c-80d1-7e6ae793c092]      [16, 14]     1.0  1  0   \n",
       "1        [2986e46e-7937-477f-9bc5-1f5eec05183f]           [2]     1.0  0  0   \n",
       "2        [f7152515-d420-42d9-a7b6-3a2796bc5d10]   [34, 2, 10]     1.0  0  0   \n",
       "3        [ec72750e-f789-4749-91f7-6292f7c6fda7]  [10, 12, 29]     1.0  0  0   \n",
       "4        [9a3afa40-66e5-4921-b831-64287f2052e0]      [16, 15]     1.0  1  0   \n",
       "...                                         ...           ...     ... .. ..   \n",
       "1915705  [ee0168d9-bf74-4513-bfbf-e73c933f90e7]           [6]     0.0  0  0   \n",
       "1915707  [fa543ac8-5ee8-4999-b949-6c8a3dbae65d]          [13]     0.0  1  0   \n",
       "1915708  [ee0168d9-bf74-4513-bfbf-e73c933f90e7]           [6]     0.0  0  0   \n",
       "1915709  [f2d3dc32-b29c-4c55-ab6d-736b4ee8b96b]          [13]     0.0  0  0   \n",
       "1915710  [142a7fc2-350c-4e29-bbd4-c9ede9a64859]        [4, 6]     0.0  0  0   \n",
       "\n",
       "         C  D  E  F  G  H  \n",
       "0        1  0  0  0  0  0  \n",
       "1        0  0  0  0  0  1  \n",
       "2        0  0  0  0  1  0  \n",
       "3        0  0  0  0  1  0  \n",
       "4        1  0  0  0  0  0  \n",
       "...     .. .. .. .. .. ..  \n",
       "1915705  0  0  0  0  1  0  \n",
       "1915707  0  0  0  0  0  0  \n",
       "1915708  0  0  0  0  1  0  \n",
       "1915709  0  0  0  0  0  1  \n",
       "1915710  0  0  0  0  1  0  \n",
       "\n",
       "[1331659 rows x 15 columns]"
      ]
     },
     "execution_count": 165,
     "metadata": {},
     "output_type": "execute_result"
    }
   ],
   "source": [
    "data_patents_process['patent_date'] = pd.to_datetime(data_patents_process['patent_date'], format='%Y-%m-%d', errors='coerce')\n",
    "data_patents_process.dropna()"
   ]
  },
  {
   "cell_type": "code",
   "execution_count": 166,
   "metadata": {},
   "outputs": [
    {
     "name": "stderr",
     "output_type": "stream",
     "text": [
      "<ipython-input-166-419f6100beda>:3: SettingWithCopyWarning: \n",
      "A value is trying to be set on a copy of a slice from a DataFrame.\n",
      "Try using .loc[row_indexer,col_indexer] = value instead\n",
      "\n",
      "See the caveats in the documentation: https://pandas.pydata.org/pandas-docs/stable/user_guide/indexing.html#returning-a-view-versus-a-copy\n",
      "  data_patents_process[\"year\"] = data_patents_process['patent_date']\n",
      "<ipython-input-166-419f6100beda>:4: SettingWithCopyWarning: \n",
      "A value is trying to be set on a copy of a slice from a DataFrame.\n",
      "Try using .loc[row_indexer,col_indexer] = value instead\n",
      "\n",
      "See the caveats in the documentation: https://pandas.pydata.org/pandas-docs/stable/user_guide/indexing.html#returning-a-view-versus-a-copy\n",
      "  data_patents_process['year'] = pd.DatetimeIndex(data_patents_process['patent_date']).year\n"
     ]
    }
   ],
   "source": [
    "# creates a columns with only years\n",
    "\n",
    "data_patents_process[\"year\"] = data_patents_process['patent_date']\n",
    "data_patents_process['year'] = pd.DatetimeIndex(data_patents_process['patent_date']).year"
   ]
  },
  {
   "cell_type": "code",
   "execution_count": 185,
   "metadata": {},
   "outputs": [
    {
     "data": {
      "text/plain": [
       "Int64Index([1976, 1977, 1978, 1979, 1980, 1981, 1982, 1983, 1984, 1985, 1986,\n",
       "            1987, 1988, 1989, 1990, 1991, 1992, 1993, 1994, 1995, 1996, 1997,\n",
       "            1998, 1999, 2000, 2001, 2002, 2003, 2004, 2005, 2006, 2007, 2008,\n",
       "            2009, 2010, 2011, 2012, 2013, 2014, 2015, 2016, 2017, 2018, 2019,\n",
       "            2020],\n",
       "           dtype='int64', name='year')"
      ]
     },
     "execution_count": 185,
     "metadata": {},
     "output_type": "execute_result"
    }
   ],
   "source": [
    "df_year2.index"
   ]
  },
  {
   "cell_type": "code",
   "execution_count": 180,
   "metadata": {},
   "outputs": [
    {
     "name": "stdout",
     "output_type": "stream",
     "text": [
      "      sum total year\n",
      "year                \n",
      "1976  NaN   NaN  NaN\n",
      "1977  NaN   NaN  NaN\n",
      "1978  NaN   NaN  NaN\n",
      "1979  NaN   NaN  NaN\n",
      "1980  NaN   NaN  NaN\n",
      "1981  NaN   NaN  NaN\n",
      "1982  NaN   NaN  NaN\n",
      "1983  NaN   NaN  NaN\n",
      "1984  NaN   NaN  NaN\n",
      "1985  NaN   NaN  NaN\n",
      "1986  NaN   NaN  NaN\n",
      "1987  NaN   NaN  NaN\n",
      "1988  NaN   NaN  NaN\n",
      "1989  NaN   NaN  NaN\n",
      "1990  NaN   NaN  NaN\n",
      "1991  NaN   NaN  NaN\n",
      "1992  NaN   NaN  NaN\n",
      "1993  NaN   NaN  NaN\n",
      "1994  NaN   NaN  NaN\n",
      "1995  NaN   NaN  NaN\n",
      "1996  NaN   NaN  NaN\n",
      "1997  NaN   NaN  NaN\n",
      "1998  NaN   NaN  NaN\n",
      "1999  NaN   NaN  NaN\n",
      "2000  NaN   NaN  NaN\n",
      "2001  NaN   NaN  NaN\n",
      "2002  NaN   NaN  NaN\n",
      "2003  NaN   NaN  NaN\n",
      "2004  NaN   NaN  NaN\n",
      "2005  NaN   NaN  NaN\n",
      "2006  NaN   NaN  NaN\n",
      "2007  NaN   NaN  NaN\n",
      "2008  NaN   NaN  NaN\n",
      "2009  NaN   NaN  NaN\n",
      "2010  NaN   NaN  NaN\n",
      "2011  NaN   NaN  NaN\n",
      "2012  NaN   NaN  NaN\n",
      "2013  NaN   NaN  NaN\n",
      "2014  NaN   NaN  NaN\n",
      "2015  NaN   NaN  NaN\n",
      "2016  NaN   NaN  NaN\n",
      "2017  NaN   NaN  NaN\n",
      "2018  NaN   NaN  NaN\n",
      "2019  NaN   NaN  NaN\n",
      "2020  NaN   NaN  NaN\n"
     ]
    }
   ],
   "source": [
    "new = data_patents_process.filter(['year','marked'], axis=1)\n",
    "df_year=new.groupby('year').agg(['count'])\n",
    "df_year2=new.groupby('year').agg(['sum'])\n",
    "df_year['year'] = df_year['marked']\n",
    "df_year['year'] = df_year.index\n",
    "\n",
    "df_test = pd.DataFrame(columns = ('sum','total','year'), index = df_year.index)\n",
    "print(df_test)\n",
    "df_test['sum'] = df_year2['marked']\n",
    "df_test['total'] = df_year['marked']\n",
    "df_test['year'] = df_year['year']"
   ]
  },
  {
   "cell_type": "code",
   "execution_count": 213,
   "metadata": {},
   "outputs": [
    {
     "name": "stdout",
     "output_type": "stream",
     "text": [
      "45\n"
     ]
    }
   ],
   "source": [
    "test = df_year.marked.to_numpy().reshape(len(df_year))\n",
    "print(len(test))"
   ]
  },
  {
   "cell_type": "code",
   "execution_count": 214,
   "metadata": {
    "scrolled": false
   },
   "outputs": [
    {
     "data": {
      "image/png": "[encoded data removed]",
      "text/plain": [
       "<Figure size 600x1500 with 1 Axes>"
      ]
     },
     "metadata": {},
     "output_type": "display_data"
    }
   ],
   "source": [
    "plt.rcdefaults()\n",
    "fig, ax = plt.subplots(figsize=(6, 15))\n",
    "\n",
    "# Example data\n",
    "year = df_year2.index\n",
    "y_pos = np.arange(len(people))\n",
    "\n",
    "ax.barh(test, performance, align='center')\n",
    "ax.set_yticks(test)\n",
    "ax.set_yticklabels(year)\n",
    "ax.invert_yaxis()  # labels read top-to-bottom\n",
    "ax.set_xlabel('Performance')\n",
    "ax.set_title('How fast do you want to go today?')\n",
    "\n",
    "plt.show()"
   ]
  },
  {
   "cell_type": "code",
   "execution_count": null,
   "metadata": {
    "scrolled": false
   },
   "outputs": [],
   "source": [
    "# Initialize the matplotlib figure\n",
    "f, ax = plt.subplots(figsize=(6, 15))\n",
    "\n",
    "sn.set_color_codes(\"pastel\")\n",
    "sn.barplot(x=\"total\", y=\"year\", data=df_test) #,label=\"Total\", color=\"b\")\n",
    "\n",
    "sn.set_color_codes(\"muted\")\n",
    "sn.barplot(x=\"sum\", y=\"year\", data=df_test, label=\"marked\", color=\"b\")\n",
    "\n",
    "# Add a legend and informative axis label\n",
    "ax.legend(ncol=2, loc=\"lower right\", frameon=True)\n",
    "ax.set(xlim=(0, 24), ylabel=\"\",\n",
    "       xlabel=\"Automobile collisions per billion miles\")\n",
    "sn.despine(left=True, bottom=True)"
   ]
  },
  {
   "cell_type": "code",
   "execution_count": null,
   "metadata": {},
   "outputs": [],
   "source": []
  },
  {
   "cell_type": "code",
   "execution_count": null,
   "metadata": {},
   "outputs": [],
   "source": []
  },
  {
   "cell_type": "code",
   "execution_count": null,
   "metadata": {},
   "outputs": [],
   "source": []
  },
  {
   "cell_type": "code",
   "execution_count": 143,
   "metadata": {},
   "outputs": [
    {
     "data": {
      "image/png": "[encoded data removed]",
      "text/plain": [
       "<Figure size 432x288 with 1 Axes>"
      ]
     },
     "metadata": {
      "needs_background": "light"
     },
     "output_type": "display_data"
    }
   ],
   "source": [
    "fig = plt.figure()\n",
    "ax = fig.add_axes([0,0,1,1])\n",
    "langs = ['A', 'B', 'C', 'D', 'E', 'F','G','H']\n",
    "students = [np.sum(data_patents.A),np.sum(data_patents.B),np.sum(data_patents.C),np.sum(data_patents.D),np.sum(data_patents.E),np.sum(data_patents.F),np.sum(data_patents.G),np.sum(data_patents.H)]\n",
    "ax.bar(langs,students)\n",
    "plt.title('Number of projects per International Patent Classification (IPC)')\n",
    "plt.show()"
   ]
  },
  {
   "cell_type": "markdown",
   "metadata": {},
   "source": [
    "A : HUMAN NECESSITIES\n",
    "\n",
    "B : PERFORMING OPERATIONS; TRANSPORTING\n",
    "\n",
    "C : CHEMISTRY; METALLURGY\n",
    "\n",
    "D : TEXTILES; PAPER\n",
    "\n",
    "E : FIXED CONSTRUCTIONS\n",
    "\n",
    "F : MECHANICAL ENGINEERING; LIGHTING; HEATING; WEAPONS; BLASTING\n",
    "\n",
    "G : PHYSICS\n",
    "\n",
    "H : ELECTRICITY"
   ]
  },
  {
   "cell_type": "code",
   "execution_count": null,
   "metadata": {},
   "outputs": [],
   "source": []
  },
  {
   "cell_type": "code",
   "execution_count": 129,
   "metadata": {},
   "outputs": [
    {
     "name": "stderr",
     "output_type": "stream",
     "text": [
      "<ipython-input-129-15841e22e1e6>:8: SettingWithCopyWarning: \n",
      "A value is trying to be set on a copy of a slice from a DataFrame.\n",
      "Try using .loc[row_indexer,col_indexer] = value instead\n",
      "\n",
      "See the caveats in the documentation: https://pandas.pydata.org/pandas-docs/stable/user_guide/indexing.html#returning-a-view-versus-a-copy\n",
      "  data_patents[i] = test[i]\n"
     ]
    }
   ],
   "source": [
    "data_patents = data_patents.dropna()\n",
    "s = data_patents['ipc_section']\n",
    "mlb = MultiLabelBinarizer()\n",
    "test = pd.DataFrame(mlb.fit_transform(s),columns=mlb.classes_, index=data_patents.index)\n",
    "\n",
    "test = test[['A','B','C','D','E','F','G','H']]\n",
    "for i in list(test.columns) :\n",
    "    data_patents[i] = test[i]"
   ]
  },
  {
   "cell_type": "code",
   "execution_count": null,
   "metadata": {},
   "outputs": [],
   "source": []
  },
  {
   "cell_type": "code",
   "execution_count": null,
   "metadata": {},
   "outputs": [],
   "source": [
    "# A = Human Necessitates; B = Performing Operations; Transporting; C = Chemistry; Metallurgy, D = Textiles; Paper; E = Fixed Constructing, F = Mechanical Engineering; Lighting; Heating; Weapons; Blasting; G = Physics, H = Electricity"
   ]
  },
  {
   "cell_type": "code",
   "execution_count": null,
   "metadata": {},
   "outputs": [],
   "source": []
  }
 ],
 "metadata": {
  "kernelspec": {
   "display_name": "Python 3",
   "language": "python",
   "name": "python3"
  },
  "language_info": {
   "codemirror_mode": {
    "name": "ipython",
    "version": 3
   },
   "file_extension": ".py",
   "mimetype": "text/x-python",
   "name": "python",
   "nbconvert_exporter": "python",
   "pygments_lexer": "ipython3",
   "version": "3.8.3"
  },
  "varInspector": {
   "cols": {
    "lenName": 16,
    "lenType": 16,
    "lenVar": 40
   },
   "kernels_config": {
    "python": {
     "delete_cmd_postfix": "",
     "delete_cmd_prefix": "del ",
     "library": "var_list.py",
     "varRefreshCmd": "print(var_dic_list())"
    },
    "r": {
     "delete_cmd_postfix": ") ",
     "delete_cmd_prefix": "rm(",
     "library": "var_list.r",
     "varRefreshCmd": "cat(var_dic_list()) "
    }
   },
   "types_to_exclude": [
    "module",
    "function",
    "builtin_function_or_method",
    "instance",
    "_Feature"
   ],
   "window_display": false
  }
 },
 "nbformat": 4,
 "nbformat_minor": 4
}
