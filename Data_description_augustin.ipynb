{
 "cells": [
  {
   "cell_type": "code",
   "execution_count": 27,
   "metadata": {},
   "outputs": [],
   "source": [
    "import pandas as pd\n",
    "import numpy as np\n",
    "import matplotlib.pyplot as plt\n",
    "from scipy import stats\n",
    "import seaborn as sn"
   ]
  },
  {
   "cell_type": "code",
   "execution_count": 41,
   "metadata": {},
   "outputs": [
    {
     "name": "stderr",
     "output_type": "stream",
     "text": [
      "/opt/anaconda3/lib/python3.8/site-packages/IPython/core/interactiveshell.py:3071: DtypeWarning: Columns (6) have mixed types.Specify dtype option on import or set low_memory=False.\n",
      "  has_raised = await self.run_ast_nodes(code_ast.body, cell_name,\n",
      "/opt/anaconda3/lib/python3.8/site-packages/IPython/core/interactiveshell.py:3071: DtypeWarning: Columns (3) have mixed types.Specify dtype option on import or set low_memory=False.\n",
      "  has_raised = await self.run_ast_nodes(code_ast.body, cell_name,\n",
      "<ipython-input-41-f28101954b84>:11: SettingWithCopyWarning: \n",
      "A value is trying to be set on a copy of a slice from a DataFrame.\n",
      "Try using .loc[row_indexer,col_indexer] = value instead\n",
      "\n",
      "See the caveats in the documentation: https://pandas.pydata.org/pandas-docs/stable/user_guide/indexing.html#returning-a-view-versus-a-copy\n",
      "  data_patents_process['patent_processing_time'] = data_patents_process['patent_processing_time'].astype(int)\n"
     ]
    }
   ],
   "source": [
    "data_assignment = pd.read_csv(\"data/assignment_red.csv\")\n",
    "data_assignor = pd.read_csv(\"data/assignor_red.csv\")\n",
    "data_assignee = pd.read_csv(\"data/assignee_red.csv\")\n",
    "data_documentid = pd.read_csv(\"data/documentid_red.csv\")\n",
    "\n",
    "data_patents = pd.read_pickle('../info_patents')\n",
    "\n",
    "#same dataframe with good Processing time values \n",
    "#some process_time_value where dates instead of int\n",
    "data_patents_process = data_patents[data_patents['patent_processing_time'].apply(lambda x: str(x).isdigit())]\n",
    "data_patents_process['patent_processing_time'] = data_patents_process['patent_processing_time'].astype(int)\n",
    "#data_patents_process = data_patents_process[data_patents_process['patent_processing_time'].apply(lambda x: x<20000)]"
   ]
  },
  {
   "cell_type": "code",
   "execution_count": 3,
   "metadata": {},
   "outputs": [],
   "source": [
    "rf_id = data_assignment['rf_id']\n",
    "data = data_assignment.copy()\n",
    "data = data.join(data_assignee.set_index('rf_id'), on='rf_id')\n",
    "data = data.join(data_assignor.set_index('rf_id'), on='rf_id')\n",
    "data = data.join(data_documentid.set_index('rf_id'), on='rf_id')"
   ]
  },
  {
   "cell_type": "code",
   "execution_count": 4,
   "metadata": {},
   "outputs": [
    {
     "name": "stdout",
     "output_type": "stream",
     "text": [
      "<class 'pandas.core.frame.DataFrame'>\n",
      "Int64Index: 269411 entries, 0 to 66670\n",
      "Data columns (total 35 columns):\n",
      " #   Column          Non-Null Count   Dtype  \n",
      "---  ------          --------------   -----  \n",
      " 0   rf_id           269411 non-null  int64  \n",
      " 1   file_id         269411 non-null  int64  \n",
      " 2   cname           269411 non-null  object \n",
      " 3   caddress_1      269411 non-null  object \n",
      " 4   caddress_2      269399 non-null  object \n",
      " 5   caddress_3      199077 non-null  object \n",
      " 6   caddress_4      20478 non-null   object \n",
      " 7   reel_no         269411 non-null  int64  \n",
      " 8   frame_no        269411 non-null  int64  \n",
      " 9   convey_text     269410 non-null  object \n",
      " 10  record_dt       269411 non-null  object \n",
      " 11  last_update_dt  269411 non-null  object \n",
      " 12  page_count      269411 non-null  int64  \n",
      " 13  purge_in        269411 non-null  object \n",
      " 14  ee_name         269411 non-null  object \n",
      " 15  ee_address_1    245741 non-null  object \n",
      " 16  ee_address_2    76270 non-null   object \n",
      " 17  ee_city         266948 non-null  object \n",
      " 18  ee_state        211596 non-null  object \n",
      " 19  ee_postcode     245949 non-null  object \n",
      " 20  ee_country      56302 non-null   object \n",
      " 21  or_name         269411 non-null  object \n",
      " 22  exec_dt         269371 non-null  object \n",
      " 23  ack_dt          3 non-null       object \n",
      " 24  title           268972 non-null  object \n",
      " 25  lang            268972 non-null  object \n",
      " 26  appno_doc_num   269301 non-null  float64\n",
      " 27  appno_date      268957 non-null  object \n",
      " 28  appno_country   269301 non-null  object \n",
      " 29  pgpub_doc_num   194960 non-null  float64\n",
      " 30  pgpub_date      194960 non-null  object \n",
      " 31  pgpub_country   194960 non-null  object \n",
      " 32  grant_doc_num   269411 non-null  int64  \n",
      " 33  grant_date      268996 non-null  object \n",
      " 34  grant_country   269411 non-null  object \n",
      "dtypes: float64(2), int64(6), object(27)\n",
      "memory usage: 74.0+ MB\n"
     ]
    }
   ],
   "source": [
    "data.info()"
   ]
  },
  {
   "cell_type": "markdown",
   "metadata": {},
   "source": [
    "## Number of patents sold per assignor"
   ]
  },
  {
   "cell_type": "code",
   "execution_count": 5,
   "metadata": {},
   "outputs": [
    {
     "data": {
      "image/png": "[encoded data removed]",
      "text/plain": [
       "<Figure size 432x288 with 1 Axes>"
      ]
     },
     "metadata": {
      "needs_background": "light"
     },
     "output_type": "display_data"
    },
    {
     "data": {
      "text/plain": [
       "DescribeResult(nobs=89954, minmax=(1, 7206), mean=2.994986326344576, variance=1095.9375533760206, skewness=137.1690365892033, kurtosis=26675.251240938414)"
      ]
     },
     "execution_count": 5,
     "metadata": {},
     "output_type": "execute_result"
    }
   ],
   "source": [
    "plt.hist(data['or_name'].value_counts(), range = (1,50), bins = 50, color = 'green',\n",
    "            edgecolor = 'black')\n",
    "plt.xlabel('valeurs')\n",
    "plt.ylabel('nombres')\n",
    "plt.title('number of patents sold per assignor')\n",
    "plt.show()\n",
    "\n",
    "stats.describe(data['or_name'].value_counts().to_numpy())"
   ]
  },
  {
   "cell_type": "markdown",
   "metadata": {},
   "source": [
    "## Number of patents sold per assignee"
   ]
  },
  {
   "cell_type": "code",
   "execution_count": 6,
   "metadata": {},
   "outputs": [
    {
     "data": {
      "image/png": "[encoded data removed]",
      "text/plain": [
       "<Figure size 432x288 with 1 Axes>"
      ]
     },
     "metadata": {
      "needs_background": "light"
     },
     "output_type": "display_data"
    },
    {
     "data": {
      "text/plain": [
       "DescribeResult(nobs=24765, minmax=(1, 9890), mean=10.878699777912376, variance=10974.055064372991, skewness=57.37574927062565, kurtosis=4509.1416196454875)"
      ]
     },
     "execution_count": 6,
     "metadata": {},
     "output_type": "execute_result"
    }
   ],
   "source": [
    "plt.hist(data['ee_name'].value_counts(), range = (1,50), bins = 50, color = 'blue',\n",
    "            edgecolor = 'black')\n",
    "plt.xlabel('valeurs')\n",
    "plt.ylabel('nombres')\n",
    "plt.title('number of patents bought per assignee')\n",
    "plt.show()\n",
    "\n",
    "stats.describe(data['ee_name'].value_counts().to_numpy())"
   ]
  },
  {
   "cell_type": "markdown",
   "metadata": {},
   "source": [
    "## Number of transactions with the same assignor/assignee"
   ]
  },
  {
   "cell_type": "code",
   "execution_count": 7,
   "metadata": {},
   "outputs": [],
   "source": [
    "data['or_ee'] = data['or_name'] + data['ee_name']"
   ]
  },
  {
   "cell_type": "code",
   "execution_count": 8,
   "metadata": {},
   "outputs": [
    {
     "data": {
      "image/png": "[encoded data removed]",
      "text/plain": [
       "<Figure size 432x288 with 1 Axes>"
      ]
     },
     "metadata": {
      "needs_background": "light"
     },
     "output_type": "display_data"
    },
    {
     "data": {
      "text/plain": [
       "DescribeResult(nobs=109452, minmax=(1, 915), mean=2.4614534225048423, variance=165.29585268284, skewness=32.08765313963201, kurtosis=1487.82247912291)"
      ]
     },
     "execution_count": 8,
     "metadata": {},
     "output_type": "execute_result"
    }
   ],
   "source": [
    "plt.hist(data['or_ee'].value_counts(), range = (1,50), bins = 50, color = 'red',\n",
    "            edgecolor = 'black')\n",
    "plt.xlabel('valeurs')\n",
    "plt.ylabel('nombres')\n",
    "plt.title('Number of tansactions with the same assignor/assignee')\n",
    "plt.show()\n",
    "\n",
    "stats.describe(data['or_ee'].value_counts().to_numpy())"
   ]
  },
  {
   "cell_type": "code",
   "execution_count": 9,
   "metadata": {},
   "outputs": [
    {
     "data": {
      "image/png": "[encoded data removed]",
      "text/plain": [
       "<Figure size 432x288 with 1 Axes>"
      ]
     },
     "metadata": {
      "needs_background": "light"
     },
     "output_type": "display_data"
    }
   ],
   "source": [
    "value_count = data['or_ee'].value_counts()\n",
    "res = []\n",
    "for i in range (len(value_count)):\n",
    "    if value_count[i]>3 : \n",
    "        res.append(value_count[i])\n",
    "\n",
    "plt.hist(res, range = (1,168), bins = 50, color = 'red',edgecolor = 'black')\n",
    "plt.xlabel('valeurs')\n",
    "plt.ylabel('nombres')\n",
    "plt.title('Number of tansactions with the same assignor/assignee')\n",
    "plt.show()"
   ]
  },
  {
   "cell_type": "code",
   "execution_count": null,
   "metadata": {},
   "outputs": [],
   "source": []
  },
  {
   "cell_type": "markdown",
   "metadata": {},
   "source": [
    "## Number of transactions with the same patent"
   ]
  },
  {
   "cell_type": "code",
   "execution_count": 10,
   "metadata": {},
   "outputs": [
    {
     "data": {
      "image/png": "[encoded data removed]",
      "text/plain": [
       "<Figure size 432x288 with 1 Axes>"
      ]
     },
     "metadata": {
      "needs_background": "light"
     },
     "output_type": "display_data"
    },
    {
     "data": {
      "text/plain": [
       "DescribeResult(nobs=43077, minmax=(1, 269), mean=6.254172760405785, variance=101.66361924148752, skewness=8.34154931625834, kurtosis=128.28822835436046)"
      ]
     },
     "execution_count": 10,
     "metadata": {},
     "output_type": "execute_result"
    }
   ],
   "source": [
    "plt.hist(data['grant_doc_num'].value_counts(), range = (1,100), bins = 50, color = 'red',\n",
    "            edgecolor = 'black')\n",
    "plt.xlabel('valeurs')\n",
    "plt.ylabel('nombres')\n",
    "plt.title('Number of tansactions with the same patent')\n",
    "plt.show()\n",
    "\n",
    "stats.describe(data['grant_doc_num'].value_counts().to_numpy())"
   ]
  },
  {
   "cell_type": "markdown",
   "metadata": {},
   "source": [
    "We can see here that a patent that is traded is in average traded 6 times. "
   ]
  },
  {
   "cell_type": "markdown",
   "metadata": {},
   "source": [
    "============================================================================================\n",
    "\n",
    "# All patents"
   ]
  },
  {
   "cell_type": "code",
   "execution_count": null,
   "metadata": {},
   "outputs": [],
   "source": []
  },
  {
   "cell_type": "code",
   "execution_count": 11,
   "metadata": {},
   "outputs": [
    {
     "data": {
      "text/plain": [
       "0.0    1891801\n",
       "1.0      23910\n",
       "Name: marked, dtype: int64"
      ]
     },
     "execution_count": 11,
     "metadata": {},
     "output_type": "execute_result"
    }
   ],
   "source": [
    "data_patents['marked'].value_counts()"
   ]
  },
  {
   "cell_type": "markdown",
   "metadata": {},
   "source": [
    "## Proportion of marked patents"
   ]
  },
  {
   "cell_type": "code",
   "execution_count": 12,
   "metadata": {},
   "outputs": [
    {
     "data": {
      "image/png": "[encoded data removed]",
      "text/plain": [
       "<Figure size 360x360 with 1 Axes>"
      ]
     },
     "metadata": {},
     "output_type": "display_data"
    }
   ],
   "source": [
    "plt.figure(figsize=(5,5))\n",
    "plt.pie(x = data_patents['marked'].value_counts(), labels = ['not marked','marked'], autopct='%1.2f%%')\n",
    "plt.title('Propotion of marked patents')\n",
    "plt.show()"
   ]
  },
  {
   "cell_type": "markdown",
   "metadata": {},
   "source": [
    "## Processing Time for patents "
   ]
  },
  {
   "cell_type": "code",
   "execution_count": 13,
   "metadata": {},
   "outputs": [
    {
     "data": {
      "image/png": "[encoded data removed]",
      "text/plain": [
       "<Figure size 432x288 with 1 Axes>"
      ]
     },
     "metadata": {
      "needs_background": "light"
     },
     "output_type": "display_data"
    }
   ],
   "source": [
    "plt.hist(data_patents_process['patent_processing_time'].value_counts(), range = (1,2018), bins = 50, color = 'red',\n",
    "            edgecolor = 'black')\n",
    "\n",
    "plt.xlabel('valeurs')\n",
    "plt.ylabel('nombres')\n",
    "plt.title('Processing time for patents')\n",
    "plt.show()"
   ]
  },
  {
   "cell_type": "code",
   "execution_count": 25,
   "metadata": {},
   "outputs": [
    {
     "name": "stderr",
     "output_type": "stream",
     "text": [
      "<ipython-input-25-c61f9e87bc22>:1: SettingWithCopyWarning: \n",
      "A value is trying to be set on a copy of a slice from a DataFrame.\n",
      "Try using .loc[row_indexer,col_indexer] = value instead\n",
      "\n",
      "See the caveats in the documentation: https://pandas.pydata.org/pandas-docs/stable/user_guide/indexing.html#returning-a-view-versus-a-copy\n",
      "  data_patents_process['patent_processing_time'] = data_patents_process['patent_processing_time'].astype(int)\n"
     ]
    },
    {
     "data": {
      "text/plain": [
       "count    1.396111e+06\n",
       "mean     1.046556e+03\n",
       "std      6.163182e+02\n",
       "min      0.000000e+00\n",
       "25%      6.200000e+02\n",
       "50%      9.070000e+02\n",
       "75%      1.328000e+03\n",
       "max      3.381700e+04\n",
       "Name: patent_processing_time, dtype: float64"
      ]
     },
     "execution_count": 25,
     "metadata": {},
     "output_type": "execute_result"
    }
   ],
   "source": [
    "\n",
    "data_patents_process['patent_processing_time'].describe()"
   ]
  },
  {
   "cell_type": "code",
   "execution_count": null,
   "metadata": {},
   "outputs": [],
   "source": []
  },
  {
   "cell_type": "code",
   "execution_count": 42,
   "metadata": {},
   "outputs": [
    {
     "data": {
      "image/png": "[encoded data removed]",
      "text/plain": [
       "<Figure size 432x288 with 1 Axes>"
      ]
     },
     "metadata": {
      "needs_background": "light"
     },
     "output_type": "display_data"
    }
   ],
   "source": [
    "ax = sn.boxplot(x=\"marked\", y=\"patent_processing_time\", palette=\"Blues\", data=data_patents_process).set_title(\"1\")\n",
    "                                                                                                                                                                                    "
   ]
  },
  {
   "cell_type": "markdown",
   "metadata": {},
   "source": [
    "Here we see that the max is higher when the patent is not marked "
   ]
  },
  {
   "cell_type": "code",
   "execution_count": 44,
   "metadata": {},
   "outputs": [
    {
     "data": {
      "text/plain": [
       "count    1.396111e+06\n",
       "mean     1.046556e+03\n",
       "std      6.163182e+02\n",
       "min      0.000000e+00\n",
       "25%      6.200000e+02\n",
       "50%      9.070000e+02\n",
       "75%      1.328000e+03\n",
       "max      3.381700e+04\n",
       "Name: patent_processing_time, dtype: float64"
      ]
     },
     "execution_count": 44,
     "metadata": {},
     "output_type": "execute_result"
    }
   ],
   "source": [
    "data_patents_process['patent_processing_time'].describe()"
   ]
  },
  {
   "cell_type": "markdown",
   "metadata": {},
   "source": [
    "the processing time is in more than 50% of the time between 600 and 1400 days"
   ]
  },
  {
   "cell_type": "code",
   "execution_count": null,
   "metadata": {},
   "outputs": [],
   "source": []
  },
  {
   "cell_type": "code",
   "execution_count": null,
   "metadata": {},
   "outputs": [],
   "source": []
  },
  {
   "cell_type": "code",
   "execution_count": null,
   "metadata": {},
   "outputs": [],
   "source": []
  },
  {
   "cell_type": "code",
   "execution_count": null,
   "metadata": {},
   "outputs": [],
   "source": []
  },
  {
   "cell_type": "code",
   "execution_count": null,
   "metadata": {},
   "outputs": [],
   "source": []
  },
  {
   "cell_type": "code",
   "execution_count": null,
   "metadata": {},
   "outputs": [],
   "source": []
  },
  {
   "cell_type": "code",
   "execution_count": null,
   "metadata": {},
   "outputs": [],
   "source": []
  }
 ],
 "metadata": {
  "kernelspec": {
   "display_name": "Python 3",
   "language": "python",
   "name": "python3"
  },
  "language_info": {
   "codemirror_mode": {
    "name": "ipython",
    "version": 3
   },
   "file_extension": ".py",
   "mimetype": "text/x-python",
   "name": "python",
   "nbconvert_exporter": "python",
   "pygments_lexer": "ipython3",
   "version": "3.8.3"
  },
  "varInspector": {
   "cols": {
    "lenName": 16,
    "lenType": 16,
    "lenVar": 40
   },
   "kernels_config": {
    "python": {
     "delete_cmd_postfix": "",
     "delete_cmd_prefix": "del ",
     "library": "var_list.py",
     "varRefreshCmd": "print(var_dic_list())"
    },
    "r": {
     "delete_cmd_postfix": ") ",
     "delete_cmd_prefix": "rm(",
     "library": "var_list.r",
     "varRefreshCmd": "cat(var_dic_list()) "
    }
   },
   "types_to_exclude": [
    "module",
    "function",
    "builtin_function_or_method",
    "instance",
    "_Feature"
   ],
   "window_display": false
  }
 },
 "nbformat": 4,
 "nbformat_minor": 4
}
