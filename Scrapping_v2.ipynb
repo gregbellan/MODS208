{
 "cells": [
  {
   "cell_type": "code",
   "execution_count": 1,
   "id": "96c55bed",
   "metadata": {},
   "outputs": [],
   "source": [
    "import numpy as np\n",
    "import pandas as pd \n",
    "import requests\n",
    "from bs4 import BeautifulSoup\n",
    "import re\n",
    "import ast \n",
    "import json"
   ]
  },
  {
   "cell_type": "code",
   "execution_count": 2,
   "id": "ac4c255d",
   "metadata": {},
   "outputs": [],
   "source": [
    "list_patents = pd.read_csv('../MODS208/Data/patents_number.csv',index_col=None)"
   ]
  },
  {
   "cell_type": "code",
   "execution_count": 3,
   "id": "54fd7e37",
   "metadata": {},
   "outputs": [],
   "source": [
    "L = list(list_patents.patent_number.values)"
   ]
  },
  {
   "cell_type": "code",
   "execution_count": 4,
   "id": "31f6fa31",
   "metadata": {},
   "outputs": [],
   "source": [
    "df = pd.DataFrame(columns=['patent_number', 'patent_title', 'patent_date', 'patent_kind',\n",
    "       'patent_type', 'assignees', 'gov_interests'])"
   ]
  },
  {
   "cell_type": "code",
   "execution_count": 5,
   "id": "252e2e70",
   "metadata": {},
   "outputs": [
    {
     "data": {
      "text/plain": [
       "24173"
      ]
     },
     "execution_count": 5,
     "metadata": {},
     "output_type": "execute_result"
    }
   ],
   "source": [
    "len(L)"
   ]
  },
  {
   "cell_type": "code",
   "execution_count": null,
   "id": "fc7e6f2a",
   "metadata": {
    "scrolled": true
   },
   "outputs": [
    {
     "name": "stdout",
     "output_type": "stream",
     "text": [
      "700\n",
      "1400\n",
      "2100\n",
      "2800\n",
      "3500\n",
      "4200\n",
      "4900\n",
      "5600\n",
      "6300\n",
      "7000\n",
      "7700\n",
      "8400\n",
      "9100\n",
      "9800\n",
      "10500\n",
      "11200\n",
      "11900\n",
      "12600\n",
      "13300\n",
      "14000\n",
      "14700\n"
     ]
    }
   ],
   "source": [
    "i=0\n",
    "while i < (len(L)-700):    \n",
    "    token1 ='https://api.patentsview.org/patents/query?q={\"patent_number\":'\n",
    "    token2 = '}&f=[\"patent_number\",\"patent_title\",\"patent_date\",\"patent_kind\",\"patent_type\",\"govint_org_id\",\"assignee_organization\",\"assignee_type\"]&s=[{\"patent_title\":\"asc\"}]&o={\"page\":1,\"per_page\":1000}'\n",
    "    url = token1 + str(L[i:i+700]) + token2\n",
    "    r = requests.get(url)\n",
    "    html=r.text\n",
    "    html = html.replace(\"null\",\"None\")\n",
    "    Dict = ast.literal_eval(html)[\"patents\"]\n",
    "    df = pd.concat([df,pd.read_json(json.dumps(Dict),orient='records')])\n",
    "    i+=700\n",
    "    print(i)\n",
    "token1 ='https://api.patentsview.org/patents/query?q={\"patent_number\":'\n",
    "token2 = '}&f=[\"patent_number\",\"patent_title\",\"patent_date\",\"patent_kind\",\"patent_type\",\"govint_org_id\",\"assignee_organization\",\"assignee_type\"]&s=[{\"patent_title\":\"asc\"}]&o={\"page\":1,\"per_page\":1000}'\n",
    "url = token1 + str(L[i:]) + token2\n",
    "r = requests.get(url)\n",
    "html=r.text\n",
    "html = html.replace(\"null\",\"None\")\n",
    "Dict = ast.literal_eval(html)[\"patents\"]\n",
    "df = pd.concat([df,pd.read_json(json.dumps(Dict),orient='records')])\n",
    "df = df.reset_index(drop=True)"
   ]
  },
  {
   "cell_type": "code",
   "execution_count": null,
   "id": "4884cadf",
   "metadata": {},
   "outputs": [],
   "source": [
    "assignee_type=[]\n",
    "assignee_org=[]\n",
    "for index,j in enumerate(df.assignees.values):\n",
    "    assigne = j[0]\n",
    "    assignee_org.append(assigne['assignee_organization']) \n",
    "    assignee_type.append(assigne['assignee_type'])\n",
    "df[\"assignee_organization\"] =assignee_org\n",
    "df[\"assignee_type\"] =assignee_type\n"
   ]
  },
  {
   "cell_type": "code",
   "execution_count": null,
   "id": "4de8b288",
   "metadata": {},
   "outputs": [],
   "source": [
    "df = df.drop(['assignees','gov_interests','patent_type'],axis=1)"
   ]
  },
  {
   "cell_type": "code",
   "execution_count": null,
   "id": "ac3725c0",
   "metadata": {},
   "outputs": [],
   "source": [
    "df"
   ]
  },
  {
   "cell_type": "code",
   "execution_count": null,
   "id": "be4df336",
   "metadata": {},
   "outputs": [],
   "source": []
  }
 ],
 "metadata": {
  "kernelspec": {
   "display_name": "Python 3",
   "language": "python",
   "name": "python3"
  },
  "language_info": {
   "codemirror_mode": {
    "name": "ipython",
    "version": 3
   },
   "file_extension": ".py",
   "mimetype": "text/x-python",
   "name": "python",
   "nbconvert_exporter": "python",
   "pygments_lexer": "ipython3",
   "version": "3.7.4"
  },
  "toc": {
   "base_numbering": 1,
   "nav_menu": {},
   "number_sections": true,
   "sideBar": true,
   "skip_h1_title": false,
   "title_cell": "Table of Contents",
   "title_sidebar": "Contents",
   "toc_cell": false,
   "toc_position": {},
   "toc_section_display": true,
   "toc_window_display": false
  },
  "varInspector": {
   "cols": {
    "lenName": 16,
    "lenType": 16,
    "lenVar": 40
   },
   "kernels_config": {
    "python": {
     "delete_cmd_postfix": "",
     "delete_cmd_prefix": "del ",
     "library": "var_list.py",
     "varRefreshCmd": "print(var_dic_list())"
    },
    "r": {
     "delete_cmd_postfix": ") ",
     "delete_cmd_prefix": "rm(",
     "library": "var_list.r",
     "varRefreshCmd": "cat(var_dic_list()) "
    }
   },
   "types_to_exclude": [
    "module",
    "function",
    "builtin_function_or_method",
    "instance",
    "_Feature"
   ],
   "window_display": false
  }
 },
 "nbformat": 4,
 "nbformat_minor": 5
}
